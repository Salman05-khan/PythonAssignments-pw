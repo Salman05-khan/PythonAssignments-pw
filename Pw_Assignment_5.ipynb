{
  "nbformat": 4,
  "nbformat_minor": 0,
  "metadata": {
    "colab": {
      "provenance": []
    },
    "kernelspec": {
      "name": "python3",
      "display_name": "Python 3"
    },
    "language_info": {
      "name": "python"
    }
  },
  "cells": [
    {
      "cell_type": "markdown",
      "source": [
        "**1. What is the difference between interpreted and compiled languages?**\n",
        "\n",
        "Ans.Interpreted languages execute code line-by-line at runtime using an interpreter.\n",
        "\n",
        "  * Slower execution speed because each line is analyzed and run directly.\n",
        "  * Easier to debug since errors are found immediately.\n",
        "  * Example: Python, JavaScript.\n",
        "\n",
        "* Compiled languages convert the entire code into machine code before execution.\n",
        "\n",
        "  * Faster execution since the compiled code runs directly on the CPU.\n",
        "  * Requires compilation step before running.\n",
        "  * Example: C, C++.\n",
        "\n",
        "\n",
        "**2. What is exception handling in Python?**\n",
        "\n",
        "Ans.* A technique to catch and handle errors so the program doesn’t crash.\n",
        "* Done using `try-except` blocks.\n",
        "* Helps write robust programs that can handle unexpected situations.\n",
        "\n",
        "python\n",
        "try:\n",
        "    x = 10 / 0\n",
        "except ZeroDivisionError:\n",
        "    print(\"Cannot divide by zero!\")\n",
        "\n",
        "\n",
        "**3. What is the purpose of the finally block in exception handling?**\n",
        "\n",
        "Ans.* Code inside `finally` always runs, whether an exception occurs or not.\n",
        "* Commonly used for cleanup actions like closing files or releasing resources.\n",
        "\n",
        "python\n",
        "try:\n",
        "    f = open(\"file.txt\")\n",
        "finally:\n",
        "    f.close()\n",
        "\n",
        "\n",
        "** 4.What is logging in Python?**\n",
        "\n",
        "Ans.* A way to record events during program execution.\n",
        "* Useful for debugging, monitoring, and tracking errors without using `print()` everywhere.\n",
        "* Can log messages to files or the console.\n",
        "\n",
        "python\n",
        "import logging\n",
        "logging.basicConfig(level=logging.INFO)\n",
        "logging.info(\"Program started\")\n",
        "\n",
        "\n",
        "**5. What is the significance of the __del__ method in Python?**  \n",
        "\n",
        "Ans.* Called when an object is about to be destroyed (garbage collected).\n",
        "* Often used to release resources.\n",
        "\n",
        "python\n",
        "class Demo:\n",
        "    def __del__(self):\n",
        "        print(\"Object destroyed\")\n",
        "obj = Demo()\n",
        "del obj  \n",
        "\n",
        "\n",
        "\n",
        "**6. What is the difference between import and from ... import in Python?**\n",
        "\n",
        "Ans.* `import module`: Brings the whole module, use `module.function()`.\n",
        "* `from module import name`: Brings specific functions/classes directly.\n",
        "\n",
        "python\n",
        "import math\n",
        "print(math.sqrt(16))\n",
        "\n",
        "from math import sqrt\n",
        "print(sqrt(16))  \n",
        "\n",
        "\n",
        "**7. How can you handle multiple exceptions in Python?**\n",
        "\n",
        "Ans.* Can use multiple `except` blocks or a tuple of exceptions.\n",
        "\n",
        "python\n",
        "try:\n",
        "    num = int(\"abc\")\n",
        "except (ValueError, TypeError) as e:\n",
        "    print(e)\n",
        "\n",
        "\n",
        "**8. What is the purpose of the with statement when handling files in Python?**  \n",
        "\n",
        "Ans.* Automatically closes the file after its block ends.\n",
        "* Prevents resource leaks.\n",
        "\n",
        "python\n",
        "with open(\"test.txt\", \"r\") as f:\n",
        "    data = f.read()\n",
        "\n",
        "\n",
        "**9. What is the difference between multithreading and multiprocessing?**\n",
        "\n",
        "\n",
        "Ans.Multithreading: Runs multiple threads inside the same process, sharing memory. Best for I/O-bound tasks. Limited CPU parallelism in Python due to GIL.\n",
        "\n",
        "Multiprocessing: Runs multiple processes with separate memory. Best for CPU-bound tasks. Achieves true parallelism using multiple CPU cores.\n",
        "\n",
        "Example:\n",
        "\n",
        "Multithreading → Multiple people writing in the same notebook.\n",
        "\n",
        "Multiprocessing → Each person has their own notebook and works independently.\n",
        "\n",
        "\n",
        "**10. What are the advantages of using logging in a program?**\n",
        "\n",
        "Ans.**Advantages of logging**\n",
        "\n",
        "* Tracks program flow and errors.\n",
        "* Works in production without removing code.\n",
        "* Configurable output (file, console, etc.).\n",
        "* Supports severity levels and timestamps.\n",
        "\n",
        "**Example:**\n",
        "\n",
        "python\n",
        "import logging\n",
        "logging.info(\"Program started\")\n",
        "\n",
        "\n",
        "**11. What is memory management in Python?**\n",
        "\n",
        "\n",
        "Ans.**Memory management in Python**\n",
        "\n",
        "* Python manages memory automatically using a **private heap**.\n",
        "* Uses **reference counting** and **garbage collection** to free unused objects.\n",
        "* The `gc` module can be used to control garbage collection.\n",
        "\n",
        "**Example:**\n",
        "\n",
        "python\n",
        "import gc\n",
        "print(gc.get_count())  # Shows garbage collector status\n",
        "\n",
        "\n",
        "**12. What are the basic steps involved in exception handling in Python?**\n",
        "\n",
        "Ans.**Basic steps in exception handling in Python**\n",
        "\n",
        "1. **try** – Put the code that may cause an error.\n",
        "2. **except** – Handle the error if it occurs.\n",
        "3. **else** – (Optional) Runs if no error occurs.\n",
        "4. **finally** – (Optional) Runs no matter what, often for cleanup.\n",
        "\n",
        "**Example:**\n",
        "\n",
        "python\n",
        "try:\n",
        "    x = 5 / 1\n",
        "except ZeroDivisionError:\n",
        "    print(\"Error: Division by zero\")\n",
        "else:\n",
        "    print(\"No error\")\n",
        "finally:\n",
        "    print(\"Done\")\n",
        "\n",
        "\n",
        "**13. Why is memory management important in Python?**\n",
        "\n",
        "Ans.* Prevents **memory leaks**.\n",
        "* Ensures efficient performance.\n",
        "* Avoids program crashes due to low memory.\n",
        "\n",
        "\n",
        "\n",
        "**14. What is the role of try and except in exception handling?**\n",
        "\n",
        "Ans.**Role of `try` and `except` in exception handling**\n",
        "\n",
        "* **`try`** – Contains code that might cause an error.\n",
        "* **`except`** – Catches and handles the error to prevent program crash.\n",
        "\n",
        "**Example:**\n",
        "\n",
        "python\n",
        "try:\n",
        "    num = int(\"abc\")\n",
        "except ValueError:\n",
        "    print(\"Invalid number!\")\n",
        "\n",
        "\n",
        "**15. How does Python's garbage collection system work?**\n",
        "\n",
        "Ans.**Python’s garbage collection system**\n",
        "\n",
        "* **Reference Counting** – Each object keeps track of how many references point to it; when count hits 0, it’s deleted.\n",
        "* **Garbage Collector** – Detects and clears unused objects, including those in **circular references**.\n",
        "* Controlled through the `gc` module for manual collection or tuning.\n",
        "\n",
        "**Example:**\n",
        "\n",
        "python\n",
        "import gc\n",
        "gc.collect()  # Forces garbage collection\n",
        "\n",
        "\n",
        "\n",
        "\n",
        "**16. What is the purpose of the else block in exception handling?**\n",
        "\n",
        "Ans.* Runs only if the `try` block has **no exception**.\n",
        "\n",
        "python\n",
        "try:\n",
        "    print(10 / 2)\n",
        "except ZeroDivisionError:\n",
        "    print(\"Error\")\n",
        "else:\n",
        "    print(\"No error occurred\")\n",
        "\n",
        "\n",
        "\n",
        "**17. What are the common logging levels in Python?**\n",
        "\n",
        "Ans.**Common logging levels in Python**\n",
        "\n",
        "* `DEBUG` – Detailed information for debugging.\n",
        "* `INFO` – General program events.\n",
        "* `WARNING` – Something unexpected but not an error.\n",
        "* `ERROR` – A serious issue that caused part of the program to fail.\n",
        "* `CRITICAL` – A severe error that may stop the program.\n",
        "\n",
        "**Example:**\n",
        "\n",
        "python\n",
        "import logging\n",
        "logging.basicConfig(level=logging.DEBUG)\n",
        "logging.debug(\"This is a debug message\")\n",
        "\n",
        "\n",
        "\n",
        "\n",
        "**18. What is the difference between os.fork() and multiprocessing in Python?**\n",
        "\n",
        "Ans.**Difference between `os.fork()` and `multiprocessing` in Python**\n",
        "\n",
        "* **`os.fork()`**\n",
        "\n",
        "  * Creates a new process by duplicating the current one.\n",
        "  * Works only on **Unix/Linux** systems.\n",
        "  * Low-level, less portable.\n",
        "\n",
        "**example**\n",
        "\n",
        "python\n",
        "  import os\n",
        "pid = os.fork()\n",
        "\n",
        "if pid == 0:\n",
        "    print(\"This is the child process\")\n",
        "else:\n",
        "    print(f\"This is the parent process, child PID: {pid}\")\n",
        "\n",
        "\n",
        "* **`multiprocessing`**\n",
        "\n",
        "  * High-level module for creating and managing processes.\n",
        "  * **Cross-platform** (works on Windows, macOS, Linux).\n",
        "  * Easier to use, handles process communication.\n",
        "\n",
        "**Example:**\n",
        "\n",
        "python\n",
        "# Multiprocessing example\n",
        "from multiprocessing import Process\n",
        "\n",
        "def task():\n",
        "    print(\"Hello from process\")\n",
        "\n",
        "p = Process(target=task)\n",
        "p.start()\n",
        "p.join()\n",
        "\n",
        "\n",
        "**19. What is the importance of closing a file in Python?**\n",
        "\n",
        "Ans.**Importance of closing a file in Python**\n",
        "\n",
        "* **Frees system resources** – Releases memory and file handles used by the program.\n",
        "* **Ensures data is saved** – Writes any buffered data to the file.\n",
        "* **Prevents file corruption** – Especially important for write operations.\n",
        "* **Avoids file access issues** – Other programs can use the file once it’s closed.\n",
        "\n",
        "**Example:**\n",
        "\n",
        "python\n",
        "f = open(\"data.txt\", \"w\")\n",
        "f.write(\"Hello\")\n",
        "f.close()  # Ensures changes are saved\n",
        "\n",
        "\n",
        "\n",
        "**20. What is the difference between file.read() and file.readline() in Python?**\n",
        "\n",
        "Ans.**Difference between `file.read()` and `file.readline()` in Python**\n",
        "\n",
        "* **`file.read()`**\n",
        "\n",
        "  * Reads the **entire file** (or a specified number of bytes).\n",
        "  * Returns a single string containing all the content.\n",
        "  * Useful when you need the whole file at once.\n",
        "\n",
        "* **`file.readline()`**\n",
        "\n",
        "  * Reads **only one line** from the file at a time.\n",
        "  * Returns the line as a string, including the newline character `\\n`.\n",
        "  * Useful for reading files line-by-line in a loop.\n",
        "\n",
        "**Example:**\n",
        "\n",
        "python\n",
        "with open(\"sample.txt\", \"r\") as f:\n",
        "    print(f.read())       # Reads the whole file\n",
        "    f.seek(0)             # Move back to start\n",
        "    print(f.readline())   # Reads first line only\n",
        "\n",
        "\n",
        "\n",
        "\n",
        "**21. What is the logging module in Python used for?**\n",
        "\n",
        "Ans.**Logging module in Python – Purpose**\n",
        "\n",
        "* Used to record events, messages, and errors during program execution.\n",
        "* Helps in debugging, monitoring, and troubleshooting without using `print()`.\n",
        "* Can log to console, files, or external systems.\n",
        "* Supports different severity levels like `DEBUG`, `INFO`, `WARNING`, `ERROR`, `CRITICAL`.\n",
        "\n",
        "**Example:**\n",
        "\n",
        "python\n",
        "import logging\n",
        "\n",
        "logging.basicConfig(filename=\"app.log\", level=logging.INFO)\n",
        "logging.info(\"Program started\")\n",
        "\n",
        "\n",
        "\n",
        "\n",
        "**22. What is the os module in Python used for in file handling?**\n",
        "\n",
        "Ans.**`os` module in Python – Use in file handling**\n",
        "\n",
        "* Provides functions to **interact with the operating system** for file and directory operations.\n",
        "* Common uses:\n",
        "\n",
        "  * Create or remove files/directories → `os.remove()`, `os.rmdir()`.\n",
        "  * Rename files → `os.rename()`.\n",
        "  * Get current directory → `os.getcwd()`.\n",
        "  * Change directory → `os.chdir()`.\n",
        "  * List files in a directory → `os.listdir()`.\n",
        "\n",
        "**Example:**\n",
        "\n",
        "python\n",
        "import os\n",
        "\n",
        "print(os.getcwd())       # Get current working directory\n",
        "os.rename(\"old.txt\", \"new.txt\")  # Rename a file\n",
        "\n",
        "\n",
        "\n",
        "**23. What are the challenges associated with memory management in Python?**\n",
        "\n",
        "Ans.* Circular references.\n",
        "* High RAM usage from large data structures.\n",
        "* Memory leaks in C extensions.\n",
        "\n",
        "\n",
        "\n",
        "**24. How do you raise an exception manually in Python?**\n",
        "\n",
        "Ans.**Raising an exception manually in Python**\n",
        "\n",
        "* Use the `raise` statement with an exception class.\n",
        "* Helps trigger an error when a certain condition is met.\n",
        "\n",
        "**Example:**\n",
        "\n",
        "python\n",
        "age = -5\n",
        "if age < 0:\n",
        "    raise ValueError(\"Age cannot be negative\")\n",
        "\n",
        "\n",
        "\n",
        "**25. Why is it important to use multithreading in certain applications?**\n",
        "\n",
        "Ans.Importance of using multithreading in certain applications\n",
        "\n",
        "Improves responsiveness – Keeps programs responsive while performing background tasks.\n",
        "\n",
        "Efficient for I/O-bound tasks – Handles network requests, file reading/writing, or user input without blocking other operations.\n",
        "\n",
        "Better resource utilization – While one thread waits (e.g., for I/O), another can work.\n",
        "\n",
        "Enables concurrency – Multiple tasks appear to run simultaneously, improving user experience.\n"
      ],
      "metadata": {
        "id": "_V05_kgjXRVN"
      }
    },
    {
      "cell_type": "markdown",
      "source": [
        "  * **PRACTICAL QUESTION**\n",
        "  \n",
        "  \n",
        "  **1. How can you open a file for writing in Python and write a string to it?**"
      ],
      "metadata": {
        "id": "zjVnD-cODE3B"
      }
    },
    {
      "cell_type": "code",
      "source": [
        "# Open file in write mode\n",
        "f = open(\"example.txt\", \"w\")\n",
        "\n",
        "# Write a string to the file\n",
        "f.write(\"Hello, Python!\")\n",
        "\n",
        "# Close the file\n",
        "f.close()\n"
      ],
      "metadata": {
        "id": "ASNg-EqJDq-n"
      },
      "execution_count": null,
      "outputs": []
    },
    {
      "cell_type": "markdown",
      "source": [
        "**2. Write a Python program to read the contents of a file and print each line.**"
      ],
      "metadata": {
        "id": "VKXXPqnKFKIS"
      }
    },
    {
      "cell_type": "code",
      "source": [
        "# First, create a sample file (for testing)\n",
        "with open(\"sample.txt\", \"w\") as f:\n",
        "    f.write(\"First line\\nSecond line\\nThird line\")\n",
        "\n",
        "# Read and print each line\n",
        "with open(\"sample.txt\", \"r\") as f:\n",
        "    for line in f:\n",
        "        print(line.strip())  # strip() removes the newline character\n"
      ],
      "metadata": {
        "colab": {
          "base_uri": "https://localhost:8080/"
        },
        "id": "8yJqz890EZs7",
        "outputId": "e29f94c5-8a0c-43ad-8c3a-37481e4a1e4c"
      },
      "execution_count": null,
      "outputs": [
        {
          "output_type": "stream",
          "name": "stdout",
          "text": [
            "First line\n",
            "Second line\n",
            "Third line\n"
          ]
        }
      ]
    },
    {
      "cell_type": "markdown",
      "source": [
        "**3. How would you handle a case where the file doesn't exist while trying to open it for reading?**"
      ],
      "metadata": {
        "id": "FgxR1eHPGAXE"
      }
    },
    {
      "cell_type": "code",
      "source": [
        "try:\n",
        "    with open(\"myfile.txt\", \"r\") as f:\n",
        "        content = f.read()\n",
        "        print(content)\n",
        "except FileNotFoundError:\n",
        "    print(\"Error: The file does not exist.\")\n"
      ],
      "metadata": {
        "colab": {
          "base_uri": "https://localhost:8080/"
        },
        "id": "k4doKgwBGWQE",
        "outputId": "6a65ab6c-bbe0-485a-9443-660cde0a876f"
      },
      "execution_count": null,
      "outputs": [
        {
          "output_type": "stream",
          "name": "stdout",
          "text": [
            "Error: The file does not exist.\n"
          ]
        }
      ]
    },
    {
      "cell_type": "markdown",
      "source": [
        "**4. Write a Python script that reads from one file and writes its content to another file.**"
      ],
      "metadata": {
        "id": "zB9UuvrsGyeH"
      }
    },
    {
      "cell_type": "code",
      "source": [
        "# Create a sample source file (for testing)\n",
        "with open(\"source.txt\", \"w\") as f:\n",
        "    f.write(\"This is the content of the source file.\")\n",
        "\n",
        "# Read from source file and write to destination file\n",
        "with open(\"source.txt\", \"r\") as src:\n",
        "    content = src.read()\n",
        "\n",
        "with open(\"destination.txt\", \"w\") as dest:\n",
        "    dest.write(content)\n",
        "\n",
        "print(\"Content copied successfully!\")\n"
      ],
      "metadata": {
        "colab": {
          "base_uri": "https://localhost:8080/"
        },
        "id": "0TQT6nOEHfXg",
        "outputId": "80c96376-5cf8-4b03-a434-339a871da2df"
      },
      "execution_count": null,
      "outputs": [
        {
          "output_type": "stream",
          "name": "stdout",
          "text": [
            "Content copied successfully!\n"
          ]
        }
      ]
    },
    {
      "cell_type": "markdown",
      "source": [
        "**5. How would you catch and handle division by zero error in Python? **"
      ],
      "metadata": {
        "id": "kQKWkX2Y6j3_"
      }
    },
    {
      "cell_type": "code",
      "source": [
        "try:\n",
        "    num = 10 / 0\n",
        "except ZeroDivisionError:\n",
        "    print(\"Error: Cannot divide by zero!\")\n"
      ],
      "metadata": {
        "colab": {
          "base_uri": "https://localhost:8080/"
        },
        "id": "Fy-BbTEP68EB",
        "outputId": "f4f05f1d-5e77-4e3f-d5b3-e7387f9b69e6"
      },
      "execution_count": 1,
      "outputs": [
        {
          "output_type": "stream",
          "name": "stdout",
          "text": [
            "Error: Cannot divide by zero!\n"
          ]
        }
      ]
    },
    {
      "cell_type": "markdown",
      "source": [
        "**6. Write a Python program that logs an error message to a log file when a division by zero exception occurs.**"
      ],
      "metadata": {
        "id": "QgZat75K7InR"
      }
    },
    {
      "cell_type": "code",
      "source": [
        "import logging\n",
        "\n",
        "# Configure logging to write to a file\n",
        "logging.basicConfig(filename=\"errors.log\", level=logging.ERROR)\n",
        "\n",
        "try:\n",
        "    num = 10 / 0\n",
        "except ZeroDivisionError:\n",
        "    logging.error(\"Division by zero occurred!\")\n",
        "\n",
        "print(\"If an error occurred, it has been logged to errors.log\")\n"
      ],
      "metadata": {
        "colab": {
          "base_uri": "https://localhost:8080/"
        },
        "id": "uud2G7UH7Szn",
        "outputId": "47fd0e1b-144f-4efd-94e4-2de19c7c6178"
      },
      "execution_count": 2,
      "outputs": [
        {
          "output_type": "stream",
          "name": "stderr",
          "text": [
            "ERROR:root:Division by zero occurred!\n"
          ]
        },
        {
          "output_type": "stream",
          "name": "stdout",
          "text": [
            "If an error occurred, it has been logged to errors.log\n"
          ]
        }
      ]
    },
    {
      "cell_type": "markdown",
      "source": [
        "**7. How do you log information at different levels (INFO, ERROR, WARNING) in Python using the logging module?**"
      ],
      "metadata": {
        "id": "GxJzAy0R7lSU"
      }
    },
    {
      "cell_type": "code",
      "source": [
        "import logging\n",
        "\n",
        "# Configure logging to show messages on console\n",
        "logging.basicConfig(level=logging.DEBUG)\n",
        "\n",
        "logging.info(\"This is an INFO message.\")\n",
        "logging.warning(\"This is a WARNING message.\")\n",
        "logging.error(\"This is an ERROR message.\")\n"
      ],
      "metadata": {
        "colab": {
          "base_uri": "https://localhost:8080/"
        },
        "id": "-Eu35p5078nc",
        "outputId": "b66dd9e0-b635-4559-b16b-f3f661facda5"
      },
      "execution_count": 3,
      "outputs": [
        {
          "output_type": "stream",
          "name": "stderr",
          "text": [
            "WARNING:root:This is a WARNING message.\n",
            "ERROR:root:This is an ERROR message.\n"
          ]
        }
      ]
    },
    {
      "cell_type": "markdown",
      "source": [
        "**8. Write a program to handle a file opening error using exception handling.**"
      ],
      "metadata": {
        "id": "Y0v5UU0D8G29"
      }
    },
    {
      "cell_type": "code",
      "source": [
        "try:\n",
        "    with open(\"non_existent_file.txt\", \"r\") as f:\n",
        "        content = f.read()\n",
        "        print(content)\n",
        "except FileNotFoundError:\n",
        "    print(\"Error: The file was not found.\")\n",
        "except PermissionError:\n",
        "    print(\"Error: You don't have permission to open this file.\")\n"
      ],
      "metadata": {
        "colab": {
          "base_uri": "https://localhost:8080/"
        },
        "id": "-EnrVEbF8Oc2",
        "outputId": "d519b253-de4b-4e73-f1bc-d06cb8b5d7bf"
      },
      "execution_count": 4,
      "outputs": [
        {
          "output_type": "stream",
          "name": "stdout",
          "text": [
            "Error: The file was not found.\n"
          ]
        }
      ]
    },
    {
      "cell_type": "markdown",
      "source": [
        "**9. How can you read a file line by line and store its content in a list in Python?**"
      ],
      "metadata": {
        "id": "_Vf3mPYf8YPQ"
      }
    },
    {
      "cell_type": "code",
      "source": [
        "# Create a sample file (for testing)\n",
        "with open(\"sample.txt\", \"w\") as f:\n",
        "    f.write(\"Line 1\\nLine 2\\nLine 3\")\n",
        "\n",
        "# Read file line by line into a list\n",
        "with open(\"sample.txt\", \"r\") as f:\n",
        "    lines = f.readlines()\n",
        "\n",
        "print(lines)  # ['Line 1\\n', 'Line 2\\n', 'Line 3']\n"
      ],
      "metadata": {
        "colab": {
          "base_uri": "https://localhost:8080/"
        },
        "id": "_VR78NUt8zum",
        "outputId": "fef816e5-63d1-49db-d55c-ce17f05de433"
      },
      "execution_count": 5,
      "outputs": [
        {
          "output_type": "stream",
          "name": "stdout",
          "text": [
            "['Line 1\\n', 'Line 2\\n', 'Line 3']\n"
          ]
        }
      ]
    },
    {
      "cell_type": "markdown",
      "source": [
        "**10. How can you append data to an existing file in Python?**"
      ],
      "metadata": {
        "id": "ZNJT1osg88Oj"
      }
    },
    {
      "cell_type": "code",
      "source": [
        "# Append data to the file\n",
        "with open(\"sample.txt\", \"a\") as f:\n",
        "    f.write(\"\\nThis is new appended line.\")\n",
        "\n",
        "print(\"Data appended successfully!\")\n"
      ],
      "metadata": {
        "colab": {
          "base_uri": "https://localhost:8080/"
        },
        "id": "h760UrqG9Eat",
        "outputId": "f14235db-5deb-4443-b6b4-2ec867fbd03f"
      },
      "execution_count": 6,
      "outputs": [
        {
          "output_type": "stream",
          "name": "stdout",
          "text": [
            "Data appended successfully!\n"
          ]
        }
      ]
    },
    {
      "cell_type": "markdown",
      "source": [
        "**11. Write a Python program that uses a try-except block to handle an error when attempting to access a\n",
        "dictionary key that doesn't exist.**"
      ],
      "metadata": {
        "id": "08tQ6q_g9Ptf"
      }
    },
    {
      "cell_type": "code",
      "source": [
        "my_dict = {\"name\": \"Alice\", \"age\": 25}\n",
        "\n",
        "try:\n",
        "    print(my_dict[\"city\"])  # Key doesn't exist\n",
        "except KeyError:\n",
        "    print(\"Error: The key 'city' was not found in the dictionary.\")\n"
      ],
      "metadata": {
        "colab": {
          "base_uri": "https://localhost:8080/"
        },
        "id": "039XBQ3p9l4H",
        "outputId": "2ba4690c-322d-4aad-fe19-de6a9f6d381e"
      },
      "execution_count": 7,
      "outputs": [
        {
          "output_type": "stream",
          "name": "stdout",
          "text": [
            "Error: The key 'city' was not found in the dictionary.\n"
          ]
        }
      ]
    },
    {
      "cell_type": "markdown",
      "source": [
        "**12. Write a program that demonstrates using multiple except blocks to handle different types of exceptions.**"
      ],
      "metadata": {
        "id": "xw1BQrbM9o4P"
      }
    },
    {
      "cell_type": "code",
      "source": [
        "try:\n",
        "    num = int(input(\"Enter a number: \"))\n",
        "    result = 10 / num\n",
        "    print(\"Result:\", result)\n",
        "except ValueError:\n",
        "    print(\"Error: Invalid input! Please enter a number.\")\n",
        "except ZeroDivisionError:\n",
        "    print(\"Error: Cannot divide by zero!\")\n",
        "except Exception as e:\n",
        "    print(\"Unexpected error:\", e)\n"
      ],
      "metadata": {
        "colab": {
          "base_uri": "https://localhost:8080/"
        },
        "id": "mBDCEope-Azc",
        "outputId": "22477eae-da4c-41cc-a187-37e62b21f5e5"
      },
      "execution_count": 9,
      "outputs": [
        {
          "output_type": "stream",
          "name": "stdout",
          "text": [
            "Enter a number: 20\n",
            "Result: 0.5\n"
          ]
        }
      ]
    },
    {
      "cell_type": "markdown",
      "source": [
        "**13. How would you check if a file exists before attempting to read it in Python?**"
      ],
      "metadata": {
        "id": "jMBNbhYW-L74"
      }
    },
    {
      "cell_type": "code",
      "source": [
        "import os\n",
        "\n",
        "filename = \"sample.txt\"\n",
        "\n",
        "if os.path.exists(filename):\n",
        "    with open(filename, \"r\") as f:\n",
        "        print(f.read())\n",
        "else:\n",
        "    print(f\"Error: '{filename}' does not exist.\")\n"
      ],
      "metadata": {
        "colab": {
          "base_uri": "https://localhost:8080/"
        },
        "id": "hhMU8eSW-dD2",
        "outputId": "50c9cf8c-a749-47f1-835a-ae4ddde6e69f"
      },
      "execution_count": 11,
      "outputs": [
        {
          "output_type": "stream",
          "name": "stdout",
          "text": [
            "Line 1\n",
            "Line 2\n",
            "Line 3\n",
            "This is new appended line.\n"
          ]
        }
      ]
    },
    {
      "cell_type": "markdown",
      "source": [
        "**14. Write a program that uses the logging module to log both informational and error messages.**"
      ],
      "metadata": {
        "id": "JqqL3XVb-ths"
      }
    },
    {
      "cell_type": "code",
      "source": [
        "import logging\n",
        "\n",
        "# Configure logging\n",
        "logging.basicConfig(filename=\"app.log\", level=logging.INFO,\n",
        "                    format=\"%(asctime)s - %(levelname)s - %(message)s\")\n",
        "\n",
        "# Log an informational message\n",
        "logging.info(\"Program started successfully.\")\n",
        "\n",
        "# Simulate an error\n",
        "try:\n",
        "    x = 10 / 0\n",
        "except ZeroDivisionError:\n",
        "    logging.error(\"Division by zero occurred.\")\n",
        "\n",
        "print(\"Logging complete. Check 'app.log' file.\")\n"
      ],
      "metadata": {
        "colab": {
          "base_uri": "https://localhost:8080/"
        },
        "id": "zzAOubum-86Z",
        "outputId": "057e1f6f-5cd3-4c28-e685-d9785a457782"
      },
      "execution_count": 12,
      "outputs": [
        {
          "output_type": "stream",
          "name": "stderr",
          "text": [
            "ERROR:root:Division by zero occurred.\n"
          ]
        },
        {
          "output_type": "stream",
          "name": "stdout",
          "text": [
            "Logging complete. Check 'app.log' file.\n"
          ]
        }
      ]
    },
    {
      "cell_type": "markdown",
      "source": [
        "**15. Write a Python program that prints the content of a file and handles the case when the file is empty.**"
      ],
      "metadata": {
        "id": "oxc1TPmy-_og"
      }
    },
    {
      "cell_type": "code",
      "source": [
        "filename = \"sample.txt\"\n",
        "\n",
        "try:\n",
        "    with open(filename, \"r\") as f:\n",
        "        content = f.read()\n",
        "        if content.strip() == \"\":\n",
        "            print(\"The file is empty.\")\n",
        "        else:\n",
        "            print(\"File Content:\\n\", content)\n",
        "except FileNotFoundError:\n",
        "    print(f\"Error: '{filename}' not found.\")\n"
      ],
      "metadata": {
        "colab": {
          "base_uri": "https://localhost:8080/"
        },
        "id": "1PGnEJh6_Ioh",
        "outputId": "8f878601-a1cd-4a23-d0e2-bf2a6d3504a2"
      },
      "execution_count": 13,
      "outputs": [
        {
          "output_type": "stream",
          "name": "stdout",
          "text": [
            "File Content:\n",
            " Line 1\n",
            "Line 2\n",
            "Line 3\n",
            "This is new appended line.\n"
          ]
        }
      ]
    },
    {
      "cell_type": "markdown",
      "source": [
        "**16. Demonstrate how to use memory profiling to check the memory usage of a small program.**"
      ],
      "metadata": {
        "id": "lzS8bl8S_Ohc"
      }
    },
    {
      "cell_type": "code",
      "source": [
        "# Make sure to run the cell above to install memory_profiler\n",
        "\n",
        "from memory_profiler import profile\n",
        "\n",
        "@profile\n",
        "def my_function():\n",
        "    # Create a large list\n",
        "    data = [i for i in range(100000)]\n",
        "    print(\"Data created.\")\n",
        "\n",
        "    # Delete the list to free memory\n",
        "    del data\n",
        "    print(\"Data deleted.\")\n",
        "\n",
        "# Run the function\n",
        "my_function()"
      ],
      "metadata": {
        "colab": {
          "base_uri": "https://localhost:8080/"
        },
        "id": "IrzGCAlS_Y40",
        "outputId": "e274e010-f15a-4688-a080-9e3cc0085c25"
      },
      "execution_count": 17,
      "outputs": [
        {
          "output_type": "stream",
          "name": "stdout",
          "text": [
            "ERROR: Could not find file /tmp/ipython-input-931606458.py\n",
            "Data created.\n",
            "Data deleted.\n"
          ]
        }
      ]
    },
    {
      "cell_type": "code",
      "metadata": {
        "colab": {
          "base_uri": "https://localhost:8080/"
        },
        "id": "b2b1728b",
        "outputId": "9e698608-d78f-4a1b-c304-2c205a724cb3"
      },
      "source": [
        "%pip install memory_profiler"
      ],
      "execution_count": 16,
      "outputs": [
        {
          "output_type": "stream",
          "name": "stdout",
          "text": [
            "Collecting memory_profiler\n",
            "  Downloading memory_profiler-0.61.0-py3-none-any.whl.metadata (20 kB)\n",
            "Requirement already satisfied: psutil in /usr/local/lib/python3.11/dist-packages (from memory_profiler) (5.9.5)\n",
            "Downloading memory_profiler-0.61.0-py3-none-any.whl (31 kB)\n",
            "Installing collected packages: memory_profiler\n",
            "Successfully installed memory_profiler-0.61.0\n"
          ]
        }
      ]
    },
    {
      "cell_type": "markdown",
      "source": [
        "**17. Write a Python program to create and write a list of numbers to a file, one number per line.**"
      ],
      "metadata": {
        "id": "I5U59b82_91Q"
      }
    },
    {
      "cell_type": "code",
      "source": [
        "numbers = [10, 20, 30, 40, 50]\n",
        "\n",
        "with open(\"numbers.txt\", \"w\") as file:\n",
        "    for num in numbers:\n",
        "        file.write(str(num) + \"\\n\")\n",
        "\n",
        "print(\"Numbers written to numbers.txt successfully.\")\n"
      ],
      "metadata": {
        "colab": {
          "base_uri": "https://localhost:8080/"
        },
        "id": "lF1hl1BxAJy2",
        "outputId": "425c86cb-582d-4fd7-d4f9-4eb9679576ba"
      },
      "execution_count": 18,
      "outputs": [
        {
          "output_type": "stream",
          "name": "stdout",
          "text": [
            "Numbers written to numbers.txt successfully.\n"
          ]
        }
      ]
    },
    {
      "cell_type": "markdown",
      "source": [
        "**18. How would you implement a basic logging setup that logs to a file with rotation after 1MB?**"
      ],
      "metadata": {
        "id": "-6FJx6_CAOX7"
      }
    },
    {
      "cell_type": "code",
      "source": [
        "import logging\n",
        "from logging.handlers import RotatingFileHandler\n",
        "\n",
        "# Set up logging with rotation\n",
        "logger = logging.getLogger(\"MyLogger\")\n",
        "logger.setLevel(logging.INFO)\n",
        "\n",
        "# Rotating file handler: 1 MB max size, keep 3 backups\n",
        "handler = RotatingFileHandler(\"app.log\", maxBytes=1_000_000, backupCount=3)\n",
        "formatter = logging.Formatter('%(asctime)s - %(levelname)s - %(message)s')\n",
        "handler.setFormatter(formatter)\n",
        "\n",
        "logger.addHandler(handler)\n",
        "\n",
        "# Example logs\n",
        "for i in range(10):\n",
        "    logger.info(f\"Log entry {i}\")\n"
      ],
      "metadata": {
        "colab": {
          "base_uri": "https://localhost:8080/"
        },
        "id": "pfBC23NXAglK",
        "outputId": "6659eb3c-18aa-4678-a475-a9877e898a9a"
      },
      "execution_count": 21,
      "outputs": [
        {
          "output_type": "stream",
          "name": "stderr",
          "text": [
            "INFO:MyLogger:Log entry 0\n",
            "INFO:MyLogger:Log entry 1\n",
            "INFO:MyLogger:Log entry 2\n",
            "INFO:MyLogger:Log entry 3\n",
            "INFO:MyLogger:Log entry 4\n",
            "INFO:MyLogger:Log entry 5\n",
            "INFO:MyLogger:Log entry 6\n",
            "INFO:MyLogger:Log entry 7\n",
            "INFO:MyLogger:Log entry 8\n",
            "INFO:MyLogger:Log entry 9\n"
          ]
        }
      ]
    },
    {
      "cell_type": "markdown",
      "source": [
        "**19. Write a program that handles both IndexError and KeyError using a try-except block.**"
      ],
      "metadata": {
        "id": "pjHXmfunA-IS"
      }
    },
    {
      "cell_type": "code",
      "source": [
        "my_list = [1, 2, 3]\n",
        "my_dict = {\"name\": \"Salman\"}\n",
        "\n",
        "try:\n",
        "    print(my_list[5])  # This will raise IndexError\n",
        "    print(my_dict[\"age\"])  # This will raise KeyError\n",
        "except IndexError:\n",
        "    print(\"Error: List index out of range.\")\n",
        "except KeyError:\n",
        "    print(\"Error: Dictionary key not found.\")\n"
      ],
      "metadata": {
        "colab": {
          "base_uri": "https://localhost:8080/"
        },
        "id": "b1wNALliBLRI",
        "outputId": "0597a33b-0b7e-42c7-9678-58eb5d0684c8"
      },
      "execution_count": 22,
      "outputs": [
        {
          "output_type": "stream",
          "name": "stdout",
          "text": [
            "Error: List index out of range.\n"
          ]
        }
      ]
    },
    {
      "cell_type": "markdown",
      "source": [
        "**20. How would you open a file and read its contents using a context manager in Python?**"
      ],
      "metadata": {
        "id": "2DTbN-IEBOkx"
      }
    },
    {
      "cell_type": "code",
      "metadata": {
        "colab": {
          "base_uri": "https://localhost:8080/"
        },
        "id": "a9bfa22a",
        "outputId": "f4dcc38b-22ed-4f1c-8a8d-ba8e16e58d6a"
      },
      "source": [
        "import os\n",
        "\n",
        "filename = \"example.txt\"\n",
        "\n",
        "if os.path.exists(filename):\n",
        "    # Open and read a file using a context manager\n",
        "    with open(filename, \"r\") as file:\n",
        "        contents = file.read()\n",
        "    print(\"File Contents:\\n\", contents)\n",
        "else:\n",
        "    print(f\"Error: '{filename}' not found.\")"
      ],
      "execution_count": 24,
      "outputs": [
        {
          "output_type": "stream",
          "name": "stdout",
          "text": [
            "Error: 'example.txt' not found.\n"
          ]
        }
      ]
    },
    {
      "cell_type": "markdown",
      "source": [
        "**21. Write a Python program that reads a file and prints the number of occurrences of a specific word.**"
      ],
      "metadata": {
        "id": "bZnLgrUqCAbB"
      }
    },
    {
      "cell_type": "code",
      "metadata": {
        "colab": {
          "base_uri": "https://localhost:8080/"
        },
        "id": "da2eb8a4",
        "outputId": "73e2fb87-16c9-4216-907d-4be3c6e5f24b"
      },
      "source": [
        "import os\n",
        "\n",
        "filename = \"example.txt\"\n",
        "word_to_find = \"python\"\n",
        "count = 0\n",
        "\n",
        "if os.path.exists(filename):\n",
        "    with open(filename, \"r\") as file:\n",
        "        for line in file:\n",
        "            words = line.lower().split()\n",
        "            count += words.count(word_to_find.lower())\n",
        "\n",
        "    print(f\"The word '{word_to_find}' occurs {count} times in the file.\")\n",
        "else:\n",
        "    print(f\"Error: The file '{filename}' does not exist.\")"
      ],
      "execution_count": 26,
      "outputs": [
        {
          "output_type": "stream",
          "name": "stdout",
          "text": [
            "Error: The file 'example.txt' does not exist.\n"
          ]
        }
      ]
    },
    {
      "cell_type": "markdown",
      "source": [
        "**22. How can you check if a file is empty before attempting to read its contents?**"
      ],
      "metadata": {
        "id": "bSXqbrPKCkKf"
      }
    },
    {
      "cell_type": "code",
      "metadata": {
        "colab": {
          "base_uri": "https://localhost:8080/"
        },
        "id": "11dec3cf",
        "outputId": "a2290130-7807-4177-8c0b-474652744479"
      },
      "source": [
        "import os\n",
        "\n",
        "filename = \"example.txt\"\n",
        "\n",
        "try:\n",
        "    with open(filename, \"r\") as file:\n",
        "        content = file.read()\n",
        "        if not content:  # Check if content is empty\n",
        "            print(\"The file is empty.\")\n",
        "        else:\n",
        "            print(\"File contents:\\n\", content)\n",
        "except FileNotFoundError:\n",
        "    print(f\"Error: The file '{filename}' does not exist.\")"
      ],
      "execution_count": 29,
      "outputs": [
        {
          "output_type": "stream",
          "name": "stdout",
          "text": [
            "Error: The file 'example.txt' does not exist.\n"
          ]
        }
      ]
    },
    {
      "cell_type": "markdown",
      "source": [
        "**23. Write a Python program that writes to a log file when an error occurs during file handling.**"
      ],
      "metadata": {
        "id": "t8xQYpLwDJxM"
      }
    },
    {
      "cell_type": "code",
      "source": [
        "import logging\n",
        "\n",
        "# Configure logging\n",
        "logging.basicConfig(filename=\"file_errors.log\", level=logging.ERROR,\n",
        "                    format=\"%(asctime)s - %(levelname)s - %(message)s\")\n",
        "\n",
        "filename = \"non_existent_file.txt\"\n",
        "\n",
        "try:\n",
        "    with open(filename, \"r\") as file:\n",
        "        contents = file.read()\n",
        "        print(contents)\n",
        "except FileNotFoundError as e:\n",
        "    logging.error(f\"Error opening file: {e}\")\n",
        "    print(\"An error occurred. Check file_errors.log for details.\")\n"
      ],
      "metadata": {
        "colab": {
          "base_uri": "https://localhost:8080/"
        },
        "id": "adQAsgUnDUX9",
        "outputId": "ad973c46-4129-4122-d51e-da8eabd08a26"
      },
      "execution_count": 30,
      "outputs": [
        {
          "output_type": "stream",
          "name": "stderr",
          "text": [
            "ERROR:root:Error opening file: [Errno 2] No such file or directory: 'non_existent_file.txt'\n"
          ]
        },
        {
          "output_type": "stream",
          "name": "stdout",
          "text": [
            "An error occurred. Check file_errors.log for details.\n"
          ]
        }
      ]
    }
  ]
}